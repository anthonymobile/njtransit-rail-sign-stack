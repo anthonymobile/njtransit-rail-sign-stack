{
 "cells": [
  {
   "cell_type": "markdown",
   "id": "7453b07f",
   "metadata": {},
   "source": [
    "# NJTransit Rail Real-Time Data Experiments\n",
    "\n",
    "Documentation at https://datasource.njtransit.com/pdf/apidoc/Rail_API_Document.pdf"
   ]
  },
  {
   "cell_type": "markdown",
   "id": "c4218a7a",
   "metadata": {},
   "source": [
    "## JSON AND XML Station arrivals (via NJTRANSIT)"
   ]
  },
  {
   "cell_type": "raw",
   "id": "37692bef",
   "metadata": {},
   "source": [
    "Endpoint documentation\n",
    "https://datasource.njtransit.com/Home.aspx\n",
    "\n",
    "Arrival Data Endpoints\n",
    "getTrainScheduleJSON19Rec (list train schedule for a given station in JSON format, data is much the\n",
    "same as DepartureVision, but without train stop list information. Train capacity data is added.)\n",
    "http://traindata.njtransit.com:8092/njttraindata.asmx/getTrainScheduleJSON19Rec?username=username&password=password&station=HB\n",
    "\n",
    "getTrainScheduleXML19Rec (list current real-time train schedule for the next 19 trains at one\n",
    "station for a given station in XML format, data is much the same as DepartureVision, but without\n",
    "train stop list information. Train capacity data is added.)\n",
    "http://traindata.njtransit.com:8092/njttraindata.asmx/getTrainScheduleXML19Rec?username=username&password=password&station=HB\n",
    "\n",
    "Test Credentials\n",
    "http://traindata.njtransit.com:8092/NJTTrainData.asmx\n"
   ]
  },
  {
   "cell_type": "code",
   "execution_count": 1,
   "id": "ad31790c",
   "metadata": {},
   "outputs": [],
   "source": [
    "import requests"
   ]
  },
  {
   "cell_type": "code",
   "execution_count": 2,
   "id": "af8a2eed",
   "metadata": {},
   "outputs": [],
   "source": [
    "# station codes on p32 at https://datasource.njtransit.com/pdf/apidoc/Rail_API_Document.pdf\n",
    "station=\"HB\""
   ]
  },
  {
   "cell_type": "code",
   "execution_count": 3,
   "id": "90e43fc2",
   "metadata": {},
   "outputs": [],
   "source": [
    "import json\n",
    "\n",
    "with open('secrets.json') as f:\n",
    "    data = json.load(f)\n",
    "    username = data['njt_feed']['username']\n",
    "    password = data['njt_feed']['password']"
   ]
  },
  {
   "cell_type": "raw",
   "id": "d36c5382",
   "metadata": {},
   "source": [
    "# get station list (to test credentials)"
   ]
  },
  {
   "cell_type": "code",
   "execution_count": 6,
   "id": "3a8ed709",
   "metadata": {},
   "outputs": [
    {
     "name": "stdout",
     "output_type": "stream",
     "text": [
      "http://traindata.njtransit.com/NJTTrainData.asmx/getStationListXML?username=starcitygroup&password=***REMOVED***"
     ]
    }
   ],
   "source": [
    "url_getStationListXML=f\"http://traindata.njtransit.com/NJTTrainData.asmx/getStationListXML?username={username}&password={password}\"\n",
    "print(url_getStationListXML)"
   ]
  },
  {
   "cell_type": "code",
   "execution_count": null,
   "id": "fffdb866",
   "metadata": {},
   "outputs": [],
   "source": [
    "url_getStationListXML = requests.get(arrivals_json_url, allow_redirects=True)"
   ]
  },
  {
   "cell_type": "code",
   "execution_count": 1,
   "id": "0b2d5e2c",
   "metadata": {},
   "outputs": [
    {
     "ename": "NameError",
     "evalue": "name 'username' is not defined",
     "output_type": "error",
     "traceback": [
      "\u001b[0;31m---------------------------------------------------------------------------\u001b[0m",
      "\u001b[0;31mNameError\u001b[0m                                 Traceback (most recent call last)",
      "\u001b[0;32m/var/folders/v_/d7d6w88x3t716sh3x9pyjd600000gn/T/ipykernel_10575/1989592067.py\u001b[0m in \u001b[0;36m<module>\u001b[0;34m\u001b[0m\n\u001b[1;32m      1\u001b[0m \u001b[0;31m# http://traindata.njtransit.com:8092/njttraindata.asmx/getTrainScheduleJSON19Rec?username=username&password=password&station=HB\u001b[0m\u001b[0;34m\u001b[0m\u001b[0;34m\u001b[0m\u001b[0m\n\u001b[1;32m      2\u001b[0m \u001b[0;34m\u001b[0m\u001b[0m\n\u001b[0;32m----> 3\u001b[0;31m \u001b[0marrivals_json_url\u001b[0m \u001b[0;34m=\u001b[0m \u001b[0;34mf\"http://traindata.njtransit.com:8092/njttraindata.asmx/getTrainScheduleJSON19Rec?username={username}\\&password={password}\\&station={station}\"\u001b[0m\u001b[0;34m\u001b[0m\u001b[0;34m\u001b[0m\u001b[0m\n\u001b[0m\u001b[1;32m      4\u001b[0m \u001b[0mprint\u001b[0m\u001b[0;34m(\u001b[0m\u001b[0marrivals_json_url\u001b[0m\u001b[0;34m)\u001b[0m\u001b[0;34m\u001b[0m\u001b[0;34m\u001b[0m\u001b[0m\n",
      "\u001b[0;31mNameError\u001b[0m: name 'username' is not defined"
     ]
    }
   ],
   "source": [
    "# http://traindata.njtransit.com:8092/njttraindata.asmx/getTrainScheduleJSON19Rec?username=username&password=password&station=HB\n",
    "\n",
    "arrivals_json_url = f\"http://traindata.njtransit.com:8092/njttraindata.asmx/getTrainScheduleJSON19Rec?username={username}\\&password={password}\\&station={station}\"\n",
    "print(arrivals_json_url)"
   ]
  },
  {
   "cell_type": "code",
   "execution_count": null,
   "id": "df8601bf",
   "metadata": {},
   "outputs": [],
   "source": [
    "#TODO get the data and parse it\n",
    "\n",
    "arrivals_json = requests.get(arrivals_json_url, allow_redirects=True)"
   ]
  },
  {
   "cell_type": "code",
   "execution_count": null,
   "id": "97bc8c15",
   "metadata": {},
   "outputs": [],
   "source": [
    "arrivals_json.json()"
   ]
  }
 ],
 "metadata": {
  "kernelspec": {
   "display_name": "Python [conda env:bigdata]",
   "language": "python",
   "name": "conda-env-bigdata-py"
  },
  "language_info": {
   "codemirror_mode": {
    "name": "ipython",
    "version": 3
   },
   "file_extension": ".py",
   "mimetype": "text/x-python",
   "name": "python",
   "nbconvert_exporter": "python",
   "pygments_lexer": "ipython3",
   "version": "3.8.13"
  },
  "vscode": {
   "interpreter": {
    "hash": "f1e22800e7071019f7887c9d0fe133a5e2a83835587d314a998ce685925d90ab"
   }
  }
 },
 "nbformat": 4,
 "nbformat_minor": 5
}
